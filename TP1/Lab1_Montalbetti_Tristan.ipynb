{
  "nbformat": 4,
  "nbformat_minor": 0,
  "metadata": {
    "colab": {
      "provenance": []
    },
    "kernelspec": {
      "name": "python3",
      "display_name": "Python 3"
    },
    "language_info": {
      "name": "python"
    },
    "accelerator": "GPU"
  },
  "cells": [
    {
      "cell_type": "markdown",
      "source": [
        "<center>\n",
        "<h1>\n",
        "<h1>APM 53674: ALTeGraD</h1>\n",
        "<h2>Lab Session 1: Neural Machine Translation and Language Modeling</h2>\n",
        "<h4>Lecture: Prof. Michalis Vazirgiannis<br>\n",
        "Lab: Dr. Hadi Abdine and Yang Zhang</h4>\n",
        "<h5>Monday, September 30, 2025</h5>\n",
        "<br>\n",
        "</center>\n",
        "\n",
        "<hr style=\"border:10px solid gray\"> </hr>\n",
        "<p style=\"text-align: justify;\">\n",
        "This handout includes theoretical introductions, <font color='blue'>coding tasks</font> and <font color='red'>questions</font>. Before the deadline, you should submit <a href='https://forms.gle/9dyaes6dimfvyjwq6' target=\"_blank\">here</a> a <B>.ipynb</B> file named <b>Lastname_Firstname.ipynb</b> containing your notebook (with the gaps filled and your answers to the questions). Your answers should be well constructed and well justified. They should not repeat the question or generalities in the handout. When relevant, you are welcome to include figures, equations and tables derived from your own computations, theoretical proofs or qualitative explanations. One submission is required for each student. The deadline for this lab is <b>October 05\n",
        ", 2025 11:59 PM</b>. No extension will be granted. Late policy is as follows: ]0, 24] hours late → -5 pts; ]24, 48] hours late → -10 pts; > 48 hours late → not graded (zero).\n",
        "</p>\n",
        "<hr style=\"border:5px solid gray\"> </hr>\n"
      ],
      "metadata": {
        "id": "PwXvz16rv753"
      }
    },
    {
      "cell_type": "markdown",
      "source": [
        "## <b>Neural Machine Translation</b></h2>"
      ],
      "metadata": {
        "id": "002zIWSTw46F"
      }
    },
    {
      "cell_type": "markdown",
      "metadata": {
        "id": "lCJvlnvsKALE"
      },
      "source": [
        "<h3><b>1. Learning Objective:</b></h2>\n",
        "<p style=\"text-align: justify;\">\n",
        "In this lab, you will learn about sequence to sequence (seq2seq) architectures.\n",
        "More precisely, we will implement the Neural Machine Translation (NMT) model described in <a href='https://arxiv.org/abs/1508.04025'>[Luong et al., 2015]</a> using Python 3.6 and PyTorch (the latest version).\n",
        "The only difference is that we will be using non-stacked RNNs, whereas <a href='https://arxiv.org/abs/1508.04025'>[Luong et al., 2015]</a> uses stacked RNNs.\n",
        "\n",
        "We will train our model on the task of English to French translation, using a set of sentence pairs from <a href='http://www.manythings.org/anki/'>http://www.manythings.org/anki/</a>, originally extracted from the Tatoeba project: <a href='https://tatoeba.org/eng/'>https://tatoeba.org/eng/</a>.\n",
        "\n",
        "Our dataset features 136,521 pairs for training and 34,130 pairs for testing, which is quite small, but enough for the purpose of this lab.\n",
        "The average size of a source sentence is 7.6 while the average size of a target sentence is 8.3.\n",
        "\n",
        "$\\underline{\\textbf{Note}}$: the pairs have already been preprocessed.\n",
        "Each sentence was turned into a list of integers starting from 4.\n",
        "The integers correspond to indexes in the source and target vocabularies, that have been constructed from the training set, and in which the most frequent words have index 4.\n",
        "0, 1, 2 and 3 are reserved respectively for the padding, out-of-vocabulary, start of sentence, and end of sentence special tokens.\n",
        "\n",
        "<h3><b>2. Recurrent Neural Networks:</b></h3>\n",
        "<p style=\"text-align: justify;\">\n",
        "\n",
        "While CNNs are good at dealing with grids, RNNs were specifically developed to be used with sequences.\n",
        "As shown in Fig. 1, a RNN can be viewed as a chain of simple neural layers that share the same parameters.\n",
        "From a high level, a RNN is fed an ordered list of input vectors $\\big\\{x_{1},...,x_{T}\\big\\}$ as well as an initial hidden state $h_{0}$ initialized to all zeros, and returns an ordered list of hidden states $\\big\\{h_{1},...,h_{T}\\big\\}$, as well as an ordered list of output vectors $\\big\\{y_{1},...,y_{T}\\big\\}$.\n",
        "The hidden states may serve as input to the RNN units above in the case of a stacked architecture, or directly be used as they are (e.g., by the attention mechanism).\n",
        "The hidden states correspond more or less to the \"short-term\" memory of the network.\n",
        "<center>\n",
        "<table><tr>\n",
        "<td> <img src='https://1drv.ms/i/c/ae69638675180117/UQQXARh1hmNpIICuu4QBAAAAAMrZ9Edq70cBsjo?width=498&height=246' alt=\"Drawing\" width= '500px'/> </td>\n",
        "<td> <img src=\"https://1drv.ms/i/c/ae69638675180117/UQQXARh1hmNpIICuvIQBAAAAAJVN-1WBTh55QtY?width=1336&height=733\" alt=\"Drawing\" width='500px'/> </td>\n",
        "</tr></table>\n",
        "\n",
        "<b>Figure 1:</b> Left: 3 steps of an unrolled RNN (adapted from <a href='http://www.wildml.com/2015/09/recurrent-neural-networks-tutorial-part-2-implementing-a-language-model-rnn-with-python-numpy-and-theano/'>Denny Britz' blog</a>). Right: 3 steps of an unrolled stacked RNN.\n",
        "The hidden states at a given position flow vertically through the RNN layers. On both sides, each circle represents a  RNN unit. </a><br>\n",
        "</center>\n",
        "\n",
        "<h3><b>3. Sequence-to-sequence architecture:</b></h3>\n",
        "<p style=\"text-align: justify;\">\n",
        "Our input and output are sequences of words, respectively $x = \\big(x_1, \\dots ,x_{T_x}\\big)$ and $y = \\big(y_1, \\dots ,y_{T_y}\\big)$.\n",
        "$x$ and $y$ are usually referred to as the $\\textit{source}$ and $\\textit{target}$ sentences.\n",
        "<h4><b>3.1. Encoder</b></h4>\n",
        "<p style=\"text-align: justify;\">\n",
        "Our encoder is a non-stacked unidirectional RNN with GRU units (see the appendix for details about the GRU.)\n",
        "\n"
      ]
    },
    {
      "cell_type": "code",
      "metadata": {
        "id": "DB6pvLvlKbtD",
        "colab": {
          "base_uri": "https://localhost:8080/"
        },
        "outputId": "6f8b2952-649b-45bd-f054-5de3b8c05073"
      },
      "source": [
        "import torch\n",
        "import torch.nn as nn\n",
        "import torch.optim as optim\n",
        "from torch.utils import data\n",
        "from torch.nn.utils.rnn import pad_sequence\n",
        "from tqdm import tqdm\n",
        "from nltk import word_tokenize\n",
        "import sys\n",
        "import json\n",
        "import nltk\n",
        "nltk.download('punkt')\n",
        "nltk.download('punkt_tab')\n",
        "import numpy as np\n",
        "import matplotlib.pyplot as plt"
      ],
      "execution_count": 8,
      "outputs": [
        {
          "output_type": "stream",
          "name": "stderr",
          "text": [
            "[nltk_data] Downloading package punkt to /root/nltk_data...\n",
            "[nltk_data]   Package punkt is already up-to-date!\n",
            "[nltk_data] Downloading package punkt_tab to /root/nltk_data...\n",
            "[nltk_data]   Package punkt_tab is already up-to-date!\n"
          ]
        }
      ]
    },
    {
      "cell_type": "markdown",
      "source": [
        "\n",
        "<b><h4><font color='blue'>\n",
        "<hr style=\"border:10px solid blue\"> </hr>\n",
        "Task 1: </b><br>\n",
        "Fill the gaps in the $\\texttt{forward}$ function of the $\\texttt{Encoder}$ class.\n",
        "<hr style=\"border:10px solid blue\"> </hr>\n",
        "</font></h4>"
      ],
      "metadata": {
        "id": "LNLFXbJu7Kcp"
      }
    },
    {
      "cell_type": "code",
      "metadata": {
        "id": "Kc8cQTFkKmif"
      },
      "source": [
        "class Encoder(nn.Module):\n",
        "    '''\n",
        "    to be passed the entire source sequence at once\n",
        "    we use padding_idx in nn.Embedding so that the padding vector does not take gradient (always zero)\n",
        "    https://pytorch.org/docs/stable/nn.html#gru\n",
        "    '''\n",
        "    def __init__(self, vocab_size, embedding_dim, hidden_dim, padding_idx):\n",
        "        super(Encoder, self).__init__()\n",
        "        self.embedding = nn.Embedding(vocab_size, embedding_dim, padding_idx)\n",
        "        self.rnn = nn.GRU(embedding_dim, hidden_dim)\n",
        "\n",
        "    def forward(self, input):\n",
        "        word_vectors = self.embedding(input)# fill the gap\n",
        "        hs,_ = self.rnn(word_vectors) # fill the gap # (seq,batch,feat)\n",
        "        return hs"
      ],
      "execution_count": 9,
      "outputs": []
    },
    {
      "cell_type": "markdown",
      "source": [
        "<h4><b>3.2. Decoder</b></h4>\n",
        "<p style=\"text-align: justify;\">\n",
        "Our decoder is a non-stacked unidirectional RNN.\n",
        "It is a neural language model conditioned not only on the previously generated target words but also on the source sentence.\n",
        "More precisely, it generates the target sentence $y=(y_1,\\dots,y_{T_y})$ one word $y_t$ at a time based on the distribution:\n",
        "\n",
        "\\begin{equation}\n",
        "P\\big[y_t|\\{y_{1},...,y_{t-1}\\},c_t\\big] = \\mathrm{softmax}\\big(W_s\\tilde{h}_t\\big)\n",
        "\\end{equation}\n",
        "\n",
        "where $\\tilde{h}_t$, the \\textit{attentional} hidden state, is computed as (biases are not shown for simplicity):\n",
        "\n",
        "\\begin{equation}\n",
        "\\tilde{h}_t = \\mathrm{tanh}\\big(W_c\\big[c_t;h_t\\big]\\big)\n",
        "\\end{equation}\n",
        "\n",
        " $h_t$ is the $t^{th}$ hidden state of the decoder, $c_t$ is the source context vector, and $\\big[;\\big]$ denotes concatenation. $W_s$ and $W_c$ are matrices of trainable parameters.\n",
        "\n",
        "$\\textbf{Note:}$ while all the inputs of the encoder (i.e., all the words of the input sentence) are known at encoding time, the decoder generates one target word at a time, and uses as input at time $t$ its prediction from time $t-1$.\n",
        "\n",
        "\n",
        "<b><h4><font color='blue'>\n",
        "<hr style=\"border:10px solid blue\"> </hr>\n",
        "Task 2: </b><br>\n",
        "Fill the gaps in the $\\texttt{forward}$ function of the $\\texttt{Decoder}$ class.\n",
        "<hr style=\"border:10px solid blue\"> </hr>\n",
        "</font></h4>"
      ],
      "metadata": {
        "id": "gZgoCyV27q65"
      }
    },
    {
      "cell_type": "code",
      "metadata": {
        "id": "h7tLaq4PK90q"
      },
      "source": [
        "class Decoder(nn.Module):\n",
        "    '''to be used one timestep at a time\n",
        "       see https://pytorch.org/docs/stable/nn.html#gru'''\n",
        "    def __init__(self, vocab_size, embedding_dim, hidden_dim, padding_idx):\n",
        "        super(Decoder, self).__init__()\n",
        "        self.embedding = nn.Embedding(vocab_size, embedding_dim, padding_idx)\n",
        "        self.rnn = nn.GRU(embedding_dim, hidden_dim)\n",
        "        self.ff_concat = nn.Linear(2*hidden_dim,hidden_dim)\n",
        "        self.predict = nn.Linear(hidden_dim, vocab_size)\n",
        "\n",
        "    def forward(self, input, source_context, h):\n",
        "        word_vector = self.embedding(input)# fill the gap # (1,batch) -> (1,batch,feat)\n",
        "        h,_= self.rnn(word_vector,h)# fill the gap # (1,batch,feat)\n",
        "        tilde_h = torch.tanh(self.ff_concat(torch.cat([source_context,h], dim=2)))# fill the gap # (1,batch,2*feat) -> (1,batch,feat)\n",
        "        prediction = self.predict(tilde_h) # (1,batch,feat) -> (1,batch,vocab)\n",
        "\n",
        "        return prediction, h"
      ],
      "execution_count": 10,
      "outputs": []
    },
    {
      "cell_type": "markdown",
      "source": [
        "<h4><b>3.3. Global attention mechanism</b></h4>\n",
        "<p style=\"text-align: justify;\">\n",
        "The context vector $c_t$ is computed as a weighted sum of the encoder's hidden states $\\bar{h}_i$.\n",
        "The vector of weights $\\alpha_{t}$ is obtained by applying a softmax to the output of an $\\textit{alignment}$ operation ($\\texttt{score()}$) between the current target hidden state $h_t$ and all source hidden states $\\bar{h}_{i}$'s.\n",
        "$\\alpha_{t}$ indicates which words in the source sentence are the most likely to help in predicting the next word.\n",
        "$\\texttt{score()}$ can in theory be any comparison function.\n",
        "In our implementation, we will use the $\\texttt{concat}$ attention formulation of <a href='https://arxiv.org/abs/1508.04025'>[Luong et al., 2015]</a> (see section 3.1 of the paper).\n",
        "An overview is provided in Fig. 2.  at a time, and uses as input at time $t$ its prediction from time $t-1$.\n",
        "<center>\n",
        "<img width='800px' src='https://1drv.ms/i/c/ae69638675180117/UQQXARh1hmNpIICutoQBAAAAAMg4GcKQUg3VOR8?width=1836&height=874' />\n",
        "<br>\n",
        "<b>Figure 2:</b>Summary of the $\\textit{global attention}$ mechanism <a href='https://arxiv.org/abs/1508.04025'>[Luong et al., 2015]</a> <br>\n",
        "</center>\n",
        "\n",
        "\n",
        "<b><h4><font color='blue'>\n",
        "<hr style=\"border:10px solid blue\"> </hr>\n",
        "Task 3: </b><br>\n",
        "Fill the gaps in the $\\texttt{forward}$ function of the $\\texttt{seq2seqAtt}$ class.\n",
        "<hr style=\"border:10px solid blue\"> </hr>\n",
        "</font></h4>"
      ],
      "metadata": {
        "id": "0mE7IkYx8Kjl"
      }
    },
    {
      "cell_type": "code",
      "metadata": {
        "id": "JwUAUDL4KmoM"
      },
      "source": [
        "class seq2seqAtt(nn.Module):\n",
        "    '''\n",
        "    concat global attention a la Luong et al. 2015 (subsection 3.1)\n",
        "    https://arxiv.org/pdf/1508.04025.pdf\n",
        "    '''\n",
        "    def __init__(self, hidden_dim, hidden_dim_s, hidden_dim_t):\n",
        "        super(seq2seqAtt, self).__init__()\n",
        "        self.ff_concat = nn.Linear(hidden_dim_s+hidden_dim_t,hidden_dim)\n",
        "        self.ff_score = nn.Linear(hidden_dim,1,bias=False) # just a dot product here\n",
        "\n",
        "    def forward(self,target_h,source_hs):\n",
        "        target_h_rep = target_h.repeat(source_hs.size(0),1,1) # (1,batch,feat) -> (seq,batch,feat)\n",
        "        concat_output = self.ff_concat(torch.cat([target_h_rep, source_hs], dim=2))# fill the gap # source_hs is (seq,batch,feat)\n",
        "        scores = self.ff_score(torch.tanh(concat_output)) # (seq,batch,feat) -> (seq,batch,1)\n",
        "        scores = scores.squeeze(dim=2) # (seq,batch,1) -> (seq,batch). dim=2 because we don't want to squeeze the batch dim if batch size = 1\n",
        "        norm_scores = torch.softmax(scores, 0) # attention weights\n",
        "        source_hs_p = source_hs.permute((2,0,1)) # (seq,batch,feat) -> (feat,seq,batch)\n",
        "        weighted_source_hs = (norm_scores * source_hs_p) # (seq,batch) * (feat,seq,batch) (* checks from right to left that the dimensions match)\n",
        "        ct = torch.sum(weighted_source_hs.permute((1,2,0)),0,keepdim=True) # (feat,seq,batch) -> (seq,batch,feat) -> (1,batch,feat); keepdim otherwise sum squeezes\n",
        "        return ct, norm_scores.squeeze(1)"
      ],
      "execution_count": 11,
      "outputs": []
    },
    {
      "cell_type": "markdown",
      "source": [
        "<h3><b>4. Training and Evaluation:</b></h3>\n",
        "<p style=\"text-align: justify;\">\n",
        "\n",
        "<b><h4><font color='blue'>\n",
        "<hr style=\"border:10px solid blue\"> </hr>\n",
        "Task 4: </b><br>\n",
        "Fill the gaps in the $\\texttt{forward}$ function of the $\\texttt{seq2seqModel}$ class.\n",
        "<hr style=\"border:10px solid blue\"> </hr>\n",
        "</font></h4>"
      ],
      "metadata": {
        "id": "nLurQq5qABAz"
      }
    },
    {
      "cell_type": "code",
      "metadata": {
        "id": "FYX0K3dNK-c9"
      },
      "source": [
        "class seq2seqModel(nn.Module):\n",
        "    '''the full seq2seq model'''\n",
        "    ARGS = ['vocab_s','source_language','vocab_t_inv','embedding_dim_s','embedding_dim_t',\n",
        "     'hidden_dim_s','hidden_dim_t','hidden_dim_att','do_att','padding_token',\n",
        "     'oov_token','sos_token','eos_token','max_size']\n",
        "    def __init__(self, vocab_s, source_language, vocab_t_inv, embedding_dim_s, embedding_dim_t,\n",
        "                 hidden_dim_s, hidden_dim_t, hidden_dim_att, do_att, padding_token,\n",
        "                 oov_token, sos_token, eos_token, max_size):\n",
        "        super(seq2seqModel, self).__init__()\n",
        "        self.vocab_s = vocab_s\n",
        "        self.source_language = source_language\n",
        "        self.vocab_t_inv = vocab_t_inv\n",
        "        self.embedding_dim_s = embedding_dim_s\n",
        "        self.embedding_dim_t = embedding_dim_t\n",
        "        self.hidden_dim_s = hidden_dim_s\n",
        "        self.hidden_dim_t = hidden_dim_t\n",
        "        self.hidden_dim_att = hidden_dim_att\n",
        "        self.do_att = do_att # should attention be used?\n",
        "        self.padding_token = padding_token\n",
        "        self.oov_token = oov_token\n",
        "        self.sos_token = sos_token\n",
        "        self.eos_token = eos_token\n",
        "        self.max_size = max_size\n",
        "\n",
        "        self.max_source_idx = max(list(vocab_s.values()))\n",
        "        print('max source index',self.max_source_idx)\n",
        "        print('source vocab size',len(vocab_s))\n",
        "\n",
        "        self.max_target_idx = max([int(elt) for elt in list(vocab_t_inv.keys())])\n",
        "        print('max target index',self.max_target_idx)\n",
        "        print('target vocab size',len(vocab_t_inv))\n",
        "\n",
        "        self.device = torch.device('cuda' if torch.cuda.is_available() else 'cpu')\n",
        "\n",
        "        self.encoder = Encoder(self.max_source_idx+1,self.embedding_dim_s,self.hidden_dim_s,self.padding_token).to(self.device)\n",
        "        self.decoder = Decoder(self.max_target_idx+1,self.embedding_dim_t,self.hidden_dim_t,self.padding_token).to(self.device)\n",
        "\n",
        "        if self.do_att:\n",
        "            self.att_mech = seq2seqAtt(self.hidden_dim_att,self.hidden_dim_s,self.hidden_dim_t).to(self.device)\n",
        "\n",
        "    def my_pad(self,my_list):\n",
        "        '''my_list is a list of tuples of the form [(tensor_s_1,tensor_t_1),...,(tensor_s_batch,tensor_t_batch)]\n",
        "        the <eos> token is appended to each sequence before padding\n",
        "        https://pytorch.org/docs/stable/nn.html#torch.nn.utils.rnn.pad_sequence'''\n",
        "        batch_source = pad_sequence([torch.cat((elt[0],torch.LongTensor([self.eos_token]))) for elt in my_list],batch_first=True,padding_value=self.padding_token)\n",
        "        batch_target = pad_sequence([torch.cat((elt[1],torch.LongTensor([self.eos_token]))) for elt in my_list],batch_first=True,padding_value=self.padding_token)\n",
        "        return batch_source,batch_target\n",
        "\n",
        "    def forward(self,input,max_size,is_prod):\n",
        "\n",
        "        if is_prod:\n",
        "            input = input.unsqueeze(1) # (seq) -> (seq,1) 1D input <=> we receive just one sentence as input (predict/production mode)\n",
        "\n",
        "        current_batch_size = input.size(1)\n",
        "\n",
        "        # fill the gap #\n",
        "        # use the encoder\n",
        "        source_hs = self.encoder(input) # (seq,batch)/(seq,1) -> (seq,batch,feat)/(seq,1,feat)\n",
        "\n",
        "        # = = = decoder part (one timestep at a time)  = = =\n",
        "\n",
        "        target_h = torch.zeros(size=(1,current_batch_size,self.hidden_dim_t)).to(self.device) # init (1,batch,feat)\n",
        "\n",
        "        # fill the gap #\n",
        "        # (initialize target_input with the proper token)\n",
        "        target_input = torch.LongTensor([self.sos_token]).repeat(current_batch_size).unsqueeze(0).to(self.device) # init (1,batch)\n",
        "\n",
        "        pos = 0\n",
        "        eos_counter = 0\n",
        "        logits = []\n",
        "        weights = []\n",
        "\n",
        "        while True:\n",
        "\n",
        "            if self.do_att:\n",
        "                source_context = self.att_mech(target_h,source_hs) # (1,batch,feat)\n",
        "                weights.append(source_context[1].tolist()) # attention weights\n",
        "                source_context = source_context[0]\n",
        "            else:\n",
        "                source_context = source_hs[-1,:,:].unsqueeze(0) # (1,batch,feat) last hidden state of encoder\n",
        "\n",
        "            # fill the gap #\n",
        "            # use the decoder\n",
        "            prediction, target_h = self.decoder(target_input, source_context, target_h)\n",
        "\n",
        "            logits.append(prediction) # (1,batch,vocab)\n",
        "\n",
        "            # fill the gap #\n",
        "            # get the next input to pass the decoder\n",
        "            target_input = prediction.argmax(dim=2)\n",
        "\n",
        "            eos_counter += torch.sum(target_input==self.eos_token).item()\n",
        "\n",
        "            pos += 1\n",
        "            if pos>=max_size or (eos_counter == current_batch_size and is_prod):\n",
        "                break\n",
        "\n",
        "        to_return = torch.cat(logits,0) # logits is a list of tensors -> (seq,batch,vocab)\n",
        "\n",
        "        if is_prod:\n",
        "            to_return = to_return.squeeze(dim=1) # (seq,vocab)\n",
        "\n",
        "        return to_return, weights\n",
        "\n",
        "    def fit(self, trainingDataset, testDataset, lr, batch_size, n_epochs, patience):\n",
        "\n",
        "        parameters = [p for p in self.parameters() if p.requires_grad]\n",
        "\n",
        "        optimizer = optim.Adam(parameters, lr=lr)\n",
        "\n",
        "        criterion = torch.nn.CrossEntropyLoss(ignore_index=self.padding_token) # the softmax is inside the loss!\n",
        "\n",
        "        # https://pytorch.org/docs/stable/data.html#torch.utils.data.DataLoader\n",
        "        # we pass a collate function to perform padding on the fly, within each batch\n",
        "        # this is better than truncation/padding at the dataset level\n",
        "        train_loader = data.DataLoader(trainingDataset, batch_size=batch_size,\n",
        "                                       shuffle=True, collate_fn=self.my_pad) # returns (batch,seq)\n",
        "\n",
        "        test_loader = data.DataLoader(testDataset, batch_size=512,\n",
        "                                      collate_fn=self.my_pad)\n",
        "\n",
        "        tdqm_dict_keys = ['loss', 'test loss']\n",
        "        tdqm_dict = dict(zip(tdqm_dict_keys,[0.0,0.0]))\n",
        "\n",
        "        patience_counter = 1\n",
        "        patience_loss = 99999\n",
        "\n",
        "        for epoch in range(n_epochs):\n",
        "\n",
        "            with tqdm(total=len(train_loader),unit_scale=True,postfix={'loss':0.0,'test loss':0.0},\n",
        "                      desc=\"Epoch : %i/%i\" % (epoch, n_epochs-1),ncols=100) as pbar:\n",
        "                for loader_idx, loader in enumerate([train_loader, test_loader]):\n",
        "                    total_loss = 0\n",
        "                    # set model mode (https://stackoverflow.com/questions/51433378/what-does-model-train-do-in-pytorch)\n",
        "                    if loader_idx == 0:\n",
        "                        self.train()\n",
        "                    else:\n",
        "                        self.eval()\n",
        "                    for i, (batch_source,batch_target) in enumerate(loader):\n",
        "                        batch_source = batch_source.transpose(1,0).to(self.device) # RNN needs (seq,batch,feat) but loader returns (batch,seq)\n",
        "                        batch_target = batch_target.transpose(1,0).to(self.device) # (seq,batch)\n",
        "\n",
        "                        # are we using the model in production / as an API?\n",
        "                        is_prod = len(batch_source.shape)==1 # if False, 2D input (seq,batch), i.e., train or test\n",
        "\n",
        "                        if is_prod:\n",
        "                            max_size = self.max_size\n",
        "                            self.eval()\n",
        "                        else:\n",
        "                            max_size = batch_target.size(0) # no need to continue generating after we've exceeded the length of the longest ground truth sequence\n",
        "\n",
        "                        unnormalized_logits = self.forward(batch_source,max_size,is_prod)[0]\n",
        "\n",
        "                        sentence_loss = criterion(unnormalized_logits.flatten(end_dim=1),batch_target.flatten())\n",
        "\n",
        "                        total_loss += sentence_loss.item()\n",
        "\n",
        "                        tdqm_dict[tdqm_dict_keys[loader_idx]] = total_loss/(i+1)\n",
        "\n",
        "                        pbar.set_postfix(tdqm_dict)\n",
        "\n",
        "                        if loader_idx == 0:\n",
        "                            optimizer.zero_grad() # flush gradient attributes\n",
        "                            sentence_loss.backward() # compute gradients\n",
        "                            optimizer.step() # update\n",
        "                            pbar.update(1)\n",
        "\n",
        "            if total_loss > patience_loss:\n",
        "                patience_counter += 1\n",
        "            else:\n",
        "                patience_loss = total_loss\n",
        "                patience_counter = 1 # reset\n",
        "\n",
        "            if patience_counter>patience:\n",
        "                break\n",
        "\n",
        "    def sourceNl_to_ints(self,source_nl):\n",
        "        '''converts natural language source sentence into source integers'''\n",
        "        source_nl_clean = source_nl.lower().replace(\"'\",' ').replace('-',' ')\n",
        "        source_nl_clean_tok = word_tokenize(source_nl_clean,self.source_language)\n",
        "        source_ints = [int(self.vocab_s[elt]) if elt in self.vocab_s else \\\n",
        "                       self.oov_token for elt in source_nl_clean_tok]\n",
        "\n",
        "        source_ints = torch.LongTensor(source_ints).to(self.device)\n",
        "        return source_ints\n",
        "\n",
        "    def targetInts_to_nl(self,target_ints):\n",
        "        '''converts integer target sentence into target natural language'''\n",
        "        return ['<PAD>' if elt==self.padding_token else '<OOV>' if elt==self.oov_token \\\n",
        "                else '<EOS>' if elt==self.eos_token else '<SOS>' if elt==self.sos_token\\\n",
        "                else self.vocab_t_inv[elt] for elt in target_ints]\n",
        "\n",
        "    def predict(self,source_nl):\n",
        "        source_ints = self.sourceNl_to_ints(source_nl)\n",
        "        logits = self.forward(source_ints,self.max_size,True) # (seq) -> (<=max_size,vocab)\n",
        "        target_ints = logits[0].argmax(-1).squeeze() # (<=max_size,1) -> (<=max_size)\n",
        "        target_nl = self.targetInts_to_nl(target_ints.tolist())\n",
        "        return ' '.join(target_nl), logits[1]\n",
        "\n",
        "    def save(self,path_to_file):\n",
        "        attrs = {attr:getattr(self,attr) for attr in self.ARGS}\n",
        "        attrs['state_dict'] = self.state_dict()\n",
        "        torch.save(attrs,path_to_file)\n",
        "\n",
        "    @classmethod # a class method does not see the inside of the class (a static method does not take self as first argument)\n",
        "    def load(cls,path_to_file):\n",
        "        attrs = torch.load(path_to_file, map_location=lambda storage, loc: storage) # allows loading on CPU a model trained on GPU, see https://discuss.pytorch.org/t/on-a-cpu-device-how-to-load-checkpoint-saved-on-gpu-device/349/6\n",
        "        state_dict = attrs.pop('state_dict')\n",
        "        new = cls(**attrs) # * list and ** names (dict) see args and kwargs\n",
        "        new.load_state_dict(state_dict)\n",
        "        return new"
      ],
      "execution_count": 12,
      "outputs": []
    },
    {
      "cell_type": "markdown",
      "source": [
        "### Download the data and the pretrained model:"
      ],
      "metadata": {
        "id": "md-HH53wAq3S"
      }
    },
    {
      "cell_type": "code",
      "metadata": {
        "id": "datl5SFtJ9Br",
        "colab": {
          "base_uri": "https://localhost:8080/"
        },
        "outputId": "bf3e48cc-88a5-4f16-c05f-f351bb0fffdc"
      },
      "source": [
        "import urllib\n",
        "\n",
        "urllib.request.urlretrieve(\"https://nuage.lix.polytechnique.fr/public.php/dav/files/FLttXTmeFSDNx7H\", \"data.zip\")\n",
        "urllib.request.urlretrieve(\"https://nuage.lix.polytechnique.fr/public.php/dav/files/6btZHdtYnyAAH3x\", \"pretrained_moodle.pt\")\n",
        "!unzip data.zip\n",
        "\n",
        "path_to_data = './data/'\n",
        "path_to_save_models = './'"
      ],
      "execution_count": 13,
      "outputs": [
        {
          "output_type": "stream",
          "name": "stdout",
          "text": [
            "Archive:  data.zip\n",
            "   creating: data/\n",
            "  inflating: __MACOSX/._data         \n",
            "  inflating: data/pairs_train_ints.txt  \n",
            "  inflating: __MACOSX/data/._pairs_train_ints.txt  \n",
            "  inflating: data/pairs_test_ints.txt  \n",
            "  inflating: __MACOSX/data/._pairs_test_ints.txt  \n",
            "  inflating: data/README.txt         \n",
            "  inflating: __MACOSX/data/._README.txt  \n",
            "  inflating: data/vocab_target.json  \n",
            "  inflating: __MACOSX/data/._vocab_target.json  \n",
            "  inflating: data/vocab_source.json  \n",
            "  inflating: __MACOSX/data/._vocab_source.json  \n"
          ]
        }
      ]
    },
    {
      "cell_type": "markdown",
      "source": [
        "### Define the dataloader:"
      ],
      "metadata": {
        "id": "AmBgproQAv8_"
      }
    },
    {
      "cell_type": "code",
      "metadata": {
        "id": "wZCiFl61LPQj"
      },
      "source": [
        "class Dataset(data.Dataset):\n",
        "  def __init__(self, pairs):\n",
        "        self.pairs = pairs\n",
        "\n",
        "  def __len__(self):\n",
        "        return len(self.pairs) # total nb of observations\n",
        "\n",
        "  def __getitem__(self, idx):\n",
        "        source, target = self.pairs[idx] # one observation\n",
        "        return torch.LongTensor(source), torch.LongTensor(target)\n",
        "\n",
        "def load_pairs(train_or_test):\n",
        "    with open(path_to_data + 'pairs_' + train_or_test + '_ints.txt', 'r', encoding='utf-8') as file:\n",
        "        pairs_tmp = file.read().splitlines()\n",
        "    pairs_tmp = [elt.split('\\t') for elt in pairs_tmp]\n",
        "    pairs_tmp = [[[int(eltt) for eltt in elt[0].split()],[int(eltt) for eltt in \\\n",
        "                  elt[1].split()]] for elt in pairs_tmp]\n",
        "    return pairs_tmp"
      ],
      "execution_count": 14,
      "outputs": []
    },
    {
      "cell_type": "markdown",
      "source": [
        "<b><h4><font color='blue'>\n",
        "<hr style=\"border:10px solid blue\"> </hr>\n",
        "Task 5: </b><br>\n",
        "Check that your implementation is correct by running $\\texttt{the following cell}$ for a few epochs and verifying that the loss decreases.\n",
        "<hr style=\"border:10px solid blue\"> </hr>\n",
        "</font></h4>"
      ],
      "metadata": {
        "id": "a1yDxMlvA1yH"
      }
    },
    {
      "cell_type": "code",
      "metadata": {
        "id": "kSZ-cvSuLQVt",
        "colab": {
          "base_uri": "https://localhost:8080/"
        },
        "outputId": "6c8fc8d6-0914-4e51-880a-b5a87bcc2b99"
      },
      "source": [
        "do_att = True # should always be set to True\n",
        "device = torch.device(\"cuda\" if torch.cuda.is_available() else \"cpu\")\n",
        "\n",
        "pairs_train = load_pairs('train')\n",
        "pairs_test = load_pairs('test')\n",
        "\n",
        "with open(path_to_data + 'vocab_source.json','r') as file:\n",
        "    vocab_source = json.load(file) # word -> index\n",
        "\n",
        "with open(path_to_data + 'vocab_target.json','r') as file:\n",
        "    vocab_target = json.load(file) # word -> index\n",
        "\n",
        "vocab_target_inv = {v:k for k,v in vocab_target.items()} # index -> word\n",
        "print('data loaded')\n",
        "training_set = Dataset(pairs_train)\n",
        "test_set = Dataset(pairs_test)\n",
        "print('data prepared')\n",
        "print('= = = attention-based model?:',str(do_att),'= = =')\n",
        "\n",
        "model = seq2seqModel(vocab_s=vocab_source,\n",
        "                      source_language='english',\n",
        "                      vocab_t_inv=vocab_target_inv,\n",
        "                      embedding_dim_s=40,\n",
        "                      embedding_dim_t=40,\n",
        "                      hidden_dim_s=30,\n",
        "                      hidden_dim_t=30,\n",
        "                      hidden_dim_att=20,\n",
        "                      do_att=do_att,\n",
        "                      padding_token=0,\n",
        "                      oov_token=1,\n",
        "                      sos_token=2,\n",
        "                      eos_token=3,\n",
        "                      max_size=30).to(device) # max size of generated sentence in prediction mode\n",
        "\n",
        "model.fit(training_set,test_set,lr=0.001,batch_size=64,n_epochs=20,patience=2)\n",
        "model.save(path_to_save_models + 'my_model.pt')\n"
      ],
      "execution_count": 8,
      "outputs": [
        {
          "output_type": "stream",
          "name": "stdout",
          "text": [
            "data loaded\n",
            "data prepared\n",
            "= = = attention-based model?: True = = =\n",
            "max source index 5281\n",
            "source vocab size 5278\n",
            "max target index 7459\n",
            "target vocab size 7456\n"
          ]
        },
        {
          "output_type": "stream",
          "name": "stderr",
          "text": [
            "Epoch : 0/19: 100%|█████████████████| 2.13k/2.13k [01:57<00:00, 18.1it/s, loss=5.17, test loss=4.58]\n",
            "Epoch : 1/19: 100%|█████████████████| 2.13k/2.13k [01:56<00:00, 18.3it/s, loss=4.26, test loss=4.01]\n",
            "Epoch : 2/19: 100%|█████████████████| 2.13k/2.13k [01:59<00:00, 17.9it/s, loss=3.85, test loss=3.74]\n",
            "Epoch : 3/19: 100%|█████████████████| 2.13k/2.13k [02:00<00:00, 17.8it/s, loss=3.61, test loss=3.53]\n",
            "Epoch : 4/19: 100%|█████████████████| 2.13k/2.13k [02:00<00:00, 17.7it/s, loss=3.43, test loss=3.39]\n",
            "Epoch : 5/19: 100%|█████████████████| 2.13k/2.13k [02:00<00:00, 17.8it/s, loss=3.29, test loss=3.29]\n",
            "Epoch : 6/19: 100%|██████████████████| 2.13k/2.13k [02:00<00:00, 17.7it/s, loss=3.18, test loss=3.2]\n",
            "Epoch : 7/19: 100%|█████████████████| 2.13k/2.13k [02:00<00:00, 17.7it/s, loss=3.09, test loss=3.11]\n",
            "Epoch : 8/19: 100%|█████████████████| 2.13k/2.13k [02:02<00:00, 17.5it/s, loss=3.01, test loss=3.07]\n",
            "Epoch : 9/19: 100%|████████████████████| 2.13k/2.13k [02:10<00:00, 16.4it/s, loss=2.94, test loss=3]\n",
            "Epoch : 10/19: 100%|████████████████| 2.13k/2.13k [02:05<00:00, 17.0it/s, loss=2.89, test loss=2.96]\n",
            "Epoch : 11/19: 100%|████████████████| 2.13k/2.13k [02:08<00:00, 16.6it/s, loss=2.84, test loss=2.92]\n",
            "Epoch : 12/19: 100%|████████████████| 2.13k/2.13k [02:04<00:00, 17.2it/s, loss=2.79, test loss=2.91]\n",
            "Epoch : 13/19: 100%|████████████████| 2.13k/2.13k [02:02<00:00, 17.5it/s, loss=2.75, test loss=2.86]\n",
            "Epoch : 14/19: 100%|████████████████| 2.13k/2.13k [02:02<00:00, 17.4it/s, loss=2.72, test loss=2.84]\n",
            "Epoch : 15/19: 100%|████████████████| 2.13k/2.13k [02:02<00:00, 17.5it/s, loss=2.69, test loss=2.82]\n",
            "Epoch : 16/19: 100%|█████████████████| 2.13k/2.13k [02:06<00:00, 16.8it/s, loss=2.66, test loss=2.8]\n",
            "Epoch : 17/19: 100%|████████████████| 2.13k/2.13k [02:03<00:00, 17.2it/s, loss=2.63, test loss=2.78]\n",
            "Epoch : 18/19: 100%|████████████████| 2.13k/2.13k [02:04<00:00, 17.2it/s, loss=2.61, test loss=2.76]\n",
            "Epoch : 19/19: 100%|████████████████| 2.13k/2.13k [02:02<00:00, 17.4it/s, loss=2.58, test loss=2.74]\n"
          ]
        }
      ]
    },
    {
      "cell_type": "code",
      "source": [
        "from tkinter import Y\n",
        "from google.colab import drive\n",
        "drive.mount('/content/drive')"
      ],
      "metadata": {
        "id": "vVeSOrPQMQX3"
      },
      "execution_count": null,
      "outputs": []
    },
    {
      "cell_type": "markdown",
      "source": [
        "<b><h4><font color='blue'>\n",
        "<hr style=\"border:10px solid blue\"> </hr>\n",
        "Task 6: </b><br>\n",
        "Run the following cell using the pre-trained weights.\n",
        "<hr style=\"border:10px solid blue\"> </hr>\n",
        "</font></h4>"
      ],
      "metadata": {
        "id": "WjzknQ0EBTIF"
      }
    },
    {
      "cell_type": "code",
      "metadata": {
        "id": "FwUInZMyQzci",
        "colab": {
          "base_uri": "https://localhost:8080/"
        },
        "outputId": "57db070a-46fa-48b5-cb07-9a6be7839691"
      },
      "source": [
        "model = seq2seqModel.load(path_to_save_models + 'pretrained_moodle.pt')\n",
        "to_test = ['I am a student.',\n",
        "            'I have a red car.',  # inversion captured\n",
        "            'I love playing video games.',\n",
        "            'This river is full of fish.', # plein vs pleine (accord)\n",
        "            'The fridge is full of food.',\n",
        "            'The cat fell asleep on the mat.',\n",
        "            'my brother likes pizza.', # pizza is translated to 'la pizza'\n",
        "            'I did not mean to hurt you', # translation of mean in context\n",
        "            'She is so mean',\n",
        "            'Help me pick out a tie to go with this suit!', # right translation\n",
        "            \"I can't help but smoking weed\", # this one and below: hallucination\n",
        "            'The kids were playing hide and seek',\n",
        "            'I did not mean to hurt you',\n",
        "            'The cat fell asleep in front of the fireplace']\n",
        "\n",
        "for elt in to_test:\n",
        "    print('= = = = = \\n','%s -> %s' % (elt, model.predict(elt)[0]))"
      ],
      "execution_count": 15,
      "outputs": [
        {
          "output_type": "stream",
          "name": "stdout",
          "text": [
            "max source index 5281\n",
            "source vocab size 5278\n",
            "max target index 7459\n",
            "target vocab size 7456\n",
            "= = = = = \n",
            " I am a student. -> je suis étudiant . . . . . . . . . . . . . . . . . . . . . . . . . . .\n",
            "= = = = = \n",
            " I have a red car. -> j ai une voiture rouge . . . . . . . . . . . . . . . . . . . . . . . . .\n",
            "= = = = = \n",
            " I love playing video games. -> j adore jouer à jeux jeux jeux vidéo . . . . . . . . . . . . . . . . . . . . . .\n",
            "= = = = = \n",
            " This river is full of fish. -> cette rivière est pleine de poisson . . . . . . . . . . . . . . . . . . . . . . . .\n",
            "= = = = = \n",
            " The fridge is full of food. -> le frigo est plein de nourriture . . . . . . . . . . . . . . . . . . . . . . . .\n",
            "= = = = = \n",
            " The cat fell asleep on the mat. -> le chat s est endormi sur le tapis . . . . . . . . . . . . . . . . . . . . . .\n",
            "= = = = = \n",
            " my brother likes pizza. -> mon frère aime la pizza . . . . . . . . . . . . . . . . . . . . . . . . .\n",
            "= = = = = \n",
            " I did not mean to hurt you -> je n ai pas voulu intention de blesser blesser blesser blesser blesser blesser . blesser . blesser . . . . . . . . . . . . .\n",
            "= = = = = \n",
            " She is so mean -> elle est tellement méchant méchant . <EOS>\n",
            "= = = = = \n",
            " Help me pick out a tie to go with this suit! -> aidez moi à chercher une cravate pour aller avec ceci ! ! ! ! ! ! ! ! ! ! ! ! ! ! <EOS>\n",
            "= = = = = \n",
            " I can't help but smoking weed -> je ne peux pas empêcher de de fumer fumer fumer fumer fumer fumer fumer fumer fumer fumer urgence urgence urgence urgence urgence urgence . urgence urgence . urgence urgence .\n",
            "= = = = = \n",
            " The kids were playing hide and seek -> les enfants jouent cache cache cache cache caché caché caché caché caché caché caché caché caché caché caché caché caché caché caché dentifrice perdre caché risques rapide caché risques éveillés\n",
            "= = = = = \n",
            " I did not mean to hurt you -> je n ai pas voulu intention de blesser blesser blesser blesser blesser blesser . blesser . blesser . . . . . . . . . . . . .\n",
            "= = = = = \n",
            " The cat fell asleep in front of the fireplace -> le chat s est en du du pression peigne peigne cheminée portail portail portail portail portail portail portail portail indépendant oiseaux oiseaux oiseaux oiseaux oiseaux oiseaux oiseaux oiseaux oiseaux oiseaux\n"
          ]
        }
      ]
    },
    {
      "cell_type": "markdown",
      "source": [
        "<h3><b>5. Questions:</b></h3>\n",
        "\n",
        "<b><h4><font color='red'>\n",
        "<hr style=\"border:10px solid red\"> </hr>\n",
        "Question 1 (5 points): </b><br>\n",
        "What do you think about our greedy decoding strategy? Base your answer on slides 87-95 from this <a href='https://nlp.stanford.edu/projects/nmt/Luong-Cho-Manning-NMT-ACL2016-v4.pdf'>presentation</a> (taken from this <a href='https://sites.google.com/site/acl16nmt/home'>ACL tutorial</a>).\n",
        "<hr style=\"border:10px solid red\"> </hr>\n",
        "</font></h4>\n",
        "\n",
        "\n",
        "\n",
        "\n",
        "\n",
        "\n"
      ],
      "metadata": {
        "id": "-4I1ROQnCIcZ"
      }
    },
    {
      "cell_type": "markdown",
      "source": [
        "<b><h4><font color='green'>\n",
        "<hr style=\"border:10px solid red\"> </hr>\n",
        "Answer 1:  </b><br>\n",
        "<hr style=\"border:10px solid red\"> </hr>\n",
        "</font></h4>\n",
        "\n",
        "Our model uses the greedy decoding strategy. The greedy decoding strategy has several advantages compared to other methods. First and foremost, it is very fast, requiring only one forward pass per timestep. In terms of space complexity, there is no bookkeeping involved, nor any need for search algorithms, and it is also deterministic. However, this determinism can be a disadvantage as well. Since there is no exploration of alternative possibilities, the resulting translation can sometimes be of lower quality. Greedy decoding relies on selecting the most probable word, even when multiple words have similar probabilities, discarding near-optimal candidates. This may be its biggest drawback. Choosing the most probable word may have a big impact on the rest of the sentence. For example, choosing “a” instead of “the” may lead to grammatically incorrect translations."
      ],
      "metadata": {
        "id": "t8j_ppwvJnWk"
      }
    },
    {
      "cell_type": "markdown",
      "source": [
        "<b><h4><font color='red'>\n",
        "<hr style=\"border:10px solid red\"> </hr>\n",
        "Question 2 (5 points): </b><br>\n",
        "What major problem do you observe with our translations?\n",
        "How could we remediate this issue? You may find inspiration from reading <a href='https://arxiv.org/abs/1508.04025'>[Luong et al., 2015]</a> and <a href='https://arxiv.org/abs/1601.04811'>[Tu et al., 2016]</a>.\n",
        "<hr style=\"border:10px solid red\"> </hr>\n",
        "</font></h4>"
      ],
      "metadata": {
        "id": "z0m_Hw-NJopL"
      }
    },
    {
      "cell_type": "markdown",
      "source": [
        "<b><h4><font color='green'>\n",
        "<hr style=\"border:10px solid red\"> </hr>\n",
        "Answer 2: </b><br>\n",
        "\n",
        "<hr style=\"border:10px solid red\"> </hr>\n",
        "</font></h4>\n",
        "\n",
        "\n",
        "\n",
        "The main problem linked to our model is the fact it uses a attention mechanism that is not adapted for long nor complexe sentences. It frequently generates loops, repeats words, or even hallucinations which leads to suboptimal sequences.\n",
        "\n",
        "This is linked to the attention mechanism to employ. The one used in our model is a global attentional mechanism using the entire input sentnces and applying a softmax on the alignment of each word. According to Luong et al. (2015) a better solution would be to use a local attentional mechanism with predictive positions (local-P). This could reduce issues in long sentences. Indeed Local-p predicts an aligned source position for each target step. A gaussian distribution centered on the calculated aligned position ensures that only a small window around it is attened. On the other hand the general scoring function computes attention on all the hidden states.\n",
        "\n",
        "Another solution suggested from Tu et al. (2015) is to maintain a coverage vector to keep track of the attention history. Their proposed approach significantly improves both translation quality and alignment quality, addressing over- or under-translation by guiding the decoder to focus on more on untranslated source words. To implement coverage the authors suggest two methods:\n",
        "- Linguistic coverage. In this method, fertility predicts how many target words each source word should produce. It indicates what percentage of source words have been translated.\n",
        "- Neural network coverage. This method implements a learned vector that accumulates past attention weights for each source position. Essentially rempalcing the fertility vector.\n",
        "\n",
        "Both approaches improve alignment and translation quality.\n",
        "\n"
      ],
      "metadata": {
        "id": "eExiju09Jhlp"
      }
    },
    {
      "cell_type": "markdown",
      "source": [
        "<b><h4><font color='red'>\n",
        "<hr style=\"border:10px solid red\"> </hr>\n",
        "Question 3 (5 points): </b><br>\n",
        "Write some code to visualize source/target alignments in the style of Fig. 3 in <a href='https://arxiv.org/abs/1409.0473'>[Bahdanau et al., 2014]</a> or Fig. 7 in <a href='https://arxiv.org/abs/1508.04025'>[Luong et al., 2015]</a>.\n",
        "Interpret your figures for some relevant examples (e.g. to illustrate adjective-noun inversion)\n",
        "<hr style=\"border:10px solid red\"> </hr>\n",
        "</font></h4>"
      ],
      "metadata": {
        "id": "RawMHJkMJk-r"
      }
    },
    {
      "cell_type": "code",
      "source": [
        "import matplotlib.pyplot as plt\n",
        "import numpy as np\n",
        "\n",
        "def alignments(model_name):\n",
        "  # load model\n",
        "  model = seq2seqModel.load(path_to_save_models + model_name)\n",
        "  # sentences to translate and are interesting\n",
        "  to_test = ['I am a student.',\n",
        "              'I have a red car.',  # inversion captured\n",
        "              'This river is full of fish.', # plein vs pleine (accord)\n",
        "              'my brother likes pizza.', # pizza is translated to 'la pizza'\n",
        "              'I did not mean to hurt you.', # translation of mean in context\n",
        "              \"I can't help but smoking weed.\", # this one and below: hallucination\n",
        "             ]\n",
        "\n",
        "  fig, ax = plt.subplots(2,3,figsize=(10, 6))\n",
        "  ax = ax.flatten()\n",
        "\n",
        "  for i in range(len(to_test)):\n",
        "    # Run prediction\n",
        "    predicted_tokens, attn_matrix = model.predict(to_test[i])\n",
        "    # Split input and predicted_tokens into tokens and remove multiple '.'\n",
        "    input_tokens = to_test[i].strip().split()\n",
        "    input_tokens[-1]= input_tokens[-1].split(\".\")[0]\n",
        "    input_tokens.append('.')\n",
        "    predicted_tokens = predicted_tokens.split(\".\")[0].strip().split()\n",
        "    predicted_tokens.append('.')\n",
        "    #take off all unintresting parts of the attention matrix\n",
        "    attn_matrix = attn_matrix[:len(predicted_tokens)]\n",
        "\n",
        "    ax[i].imshow(attn_matrix, cmap=\"gray\", aspect=\"auto\")  # grayscale only\n",
        "\n",
        "    # Set ticks\n",
        "    ax[i].set_xticks(np.arange(len(input_tokens)))\n",
        "    ax[i].set_yticks(np.arange(len(predicted_tokens)))\n",
        "    ax[i].set_xticklabels(input_tokens, rotation=45, ha=\"right\")\n",
        "    ax[i].set_yticklabels(predicted_tokens, rotation=0, ha=\"right\")\n",
        "\n",
        "    ax[i].set_title(f\"Sentence {i+1}\", fontsize=12)\n",
        "    ax[i].set_xlabel(\"Input Tokens\")\n",
        "    ax[i].set_ylabel(\"Output Tokens\")\n",
        "  plt.tight_layout()\n",
        "  plt.show()\n",
        "\n",
        "\n",
        "alignments('pretrained_moodle.pt')"
      ],
      "metadata": {
        "id": "K4eaYTs3E4gQ",
        "colab": {
          "base_uri": "https://localhost:8080/",
          "height": 675
        },
        "outputId": "d65a0ed4-ad14-4aa7-ef00-20d93bf337f6"
      },
      "execution_count": 17,
      "outputs": [
        {
          "output_type": "stream",
          "name": "stdout",
          "text": [
            "max source index 5281\n",
            "source vocab size 5278\n",
            "max target index 7459\n",
            "target vocab size 7456\n"
          ]
        },
        {
          "output_type": "display_data",
          "data": {
            "text/plain": [
              "<Figure size 1000x600 with 6 Axes>"
            ],
            "image/png": "[encoded data removed]"
          },
          "metadata": {}
        }
      ]
    },
    {
      "cell_type": "markdown",
      "source": [
        "<b><h4><font color='green'>\n",
        "<hr style=\"border:10px solid red\"> </hr>\n",
        "Answer 3: </b><br>\n",
        "<hr style=\"border:10px solid red\"> </hr>\n",
        "</font></h4>\n",
        "\n",
        "I have shown aligment representation on 6 sentences that have some interest. I will concentrate on sentence 1, 2, 4\n",
        "\n",
        "**Sentence 1:**\n",
        "\n",
        "\n",
        "The word alignment seems coherent with what is expected: each word mainly highlights the correct corresponding word. This results in an accurate translation. Interestingly, the article “a” receives less attention compared to the rest, since it does not need to be translated into French.\n",
        "\n",
        "**Sentence 2:**\n",
        "\n",
        "\n",
        " In this sentence, we observe an adjective–noun inversion with “red car” in English and “voiture rouge” in French. The inversion is correctly implemented: the word “voiture” comes first and is correctly aligned with “car”, as its attention is mostly focused there. There is a small weight on “red”, but it is largely skipped. More surprisingly, the model generates “rouge” correctly, even though the attention on “red” is nearly zero. A plausible hypothesis is that a larger influence is carried from the previous hidden state (“voiture”) rather than from the attention itself. In a sense, the model has learned typical language patterns, such as the noun–adjective ordering in French.\n",
        "\n",
        "**Sentence 4:**\n",
        "\n",
        "Here again, we see a correct translation as well as a very coherent alignment between the French translation and the English sentence. However, on “aime”, some attention also spreads to “pizza”, reflecting word-order reordering (likes pizza → aime la pizza). Indeed, immediately after, there is the article “la”, which is missing in English. Interestingly, “la” aligns with “pizza”. This shows that the model has also learned language-specific grammar rules: French requires an article, while English does not.\n"
      ],
      "metadata": {
        "id": "-HY_LqQoJW_z"
      }
    },
    {
      "cell_type": "markdown",
      "source": [
        "\n",
        "\n",
        "\n",
        "<b><h4><font color='red'>\n",
        "<hr style=\"border:10px solid red\"> </hr>\n",
        "Question 4 (5 points): </b><br>\n",
        "What do you observe in the translations of the sentences below?\n",
        "What properties of language models does that illustrate?\n",
        "Read <a href='https://arxiv.org/abs/1802.05365'>[Peters et al., 2018]</a> and <a href='https://arxiv.org/abs/1810.04805'>[Devlin et al., 2018]</a>  to get some ideas.\n",
        "<ul>\n",
        "<b><h4><font color='red'>\n",
        "<li>$\\texttt{I did not mean to hurt you}$\n",
        "<li>$\\texttt{She is so mean}$\n",
        "</ul>\n",
        "<hr style=\"border:10px solid red\"> </hr>\n",
        "</font></h4>\n",
        "\n"
      ],
      "metadata": {
        "id": "_jRkSDMjFXLH"
      }
    },
    {
      "cell_type": "markdown",
      "source": [
        "<b><h4><font color='green'>\n",
        "<hr style=\"border:10px solid red\"> </hr>\n",
        "Answer 4: </b><br>\n",
        "\n",
        "<hr style=\"border:10px solid red\"> </hr>\n",
        "</font></h4>\n",
        "\n",
        "Here are the ouputs of each sentence:\n",
        "\n",
        "<b>Example 1:</b>\n",
        "\n",
        " - I did not mean to hurt you -> je n ai pas voulu intention de blesser blesser blesser blesser blesser blesser . blesser . blesserblesser blesser blesser blesser blesser . blesser . blesser\n",
        "\n",
        "<b>Example 2:</b>\n",
        "\n",
        " - She is so mean -> elle est tellement méchant méchant . <EOS>\n",
        "\n",
        "These examples are classic pathologies of neural machine translation. Some of these problems have already been discussed in question 2 where are model is not adapted for long nor complexe sentences. It frequently generates loops, repeats words, or even hallucinations which leads to suboptimal sequences.\n",
        "\n",
        "We observe:\n",
        "\n",
        "In example 1\n",
        "\n",
        "- Over-translation: blesser (“to hurt”) is repeated excessively : sentence degenrates into repetition.\n",
        "- Mixing literal translation (voulu intention) with incorrect phrasing (should be je n’ai pas voulu te blesser).\n",
        "\n",
        "In example 2\n",
        "\n",
        "- Wrong morphology: méchant is masculine; it should be méchante (agreement error).\n",
        "- Repetition of méchant.\n",
        "- Early stopping with <EOS> (translation cut off).\n",
        "\n",
        "This highlights shallow understanding of syntax and morphology with méchant/méchante error showing that the model doesn’t robustly encode agreement. Neural LMs also tend to collapse into repetitive outputs (degeneracy problem). This is usuely tied to the probabilistic nature of softmax, where once a token gets slightly over-weighted, the model keeps predicting it. Finally, as discussed in question 2, the model doesn’t keep track of which source words are translated; which leads to over-translation (repeating) or under-translation (missing words). All in all, these problems are illustrations of shallow word- or sentence-level embeddings.\n",
        "\n",
        "Both papers address these limitations by presenting deep contextualized embeddings.\n",
        "\n",
        " - ELMo (Peters et al.):\n",
        "\n",
        "Previous word vectors learning approaches only allow a single context- independent representation for each word. However ELMo word representations are functions of the entire input sentence. The authors thus show that richer contextual embeddings capture syntax and semantics better than static embeddings. This approach which uses a deep bidirectional language model (biLM) is able to learn higher-level (context-dependent aspects) as well as low level states (aspects of syntax). It reduces agreement errors like méchant/méchante.\n",
        "\n",
        " - BERT (Devlin et al.):\n",
        "\n",
        "This article explains Bidirectional masked LM captures both left and right context. The authors suggest that for token-level tasks such as question answering, it is crucial to incorporate context from both directions. This approach results in an improvement in the handling of negation (I did not mean to hurt you), where simple left-to-right LMs often fail. It is a clear demonstrates that by leveraging pretraining on large, diverse corpora gives better generalization across tasks.\n",
        "\n"
      ],
      "metadata": {
        "id": "4AyxolVhJU5u"
      }
    },
    {
      "cell_type": "markdown",
      "source": [
        "### <b>6. Appendix:</b>\n",
        "<h4><b>6.1. GRU unit:</b></h4>\n",
        "<p style=\"text-align: justify;\">\n",
        "As shown in Fig. 3, the GRU unit <a href='https://arxiv.org/abs/1406.1078'>[Cho et al., 2014]</a> is a simple RNN unit with two gates (reset and update):\n",
        "\n",
        "\\begin{equation}\n",
        "\\text{reset gate:}~~r_{t} = \\sigma \\big(U_{r}x_{t} + W_{r}h_{t-1} + b_r\\big)\n",
        "\\end{equation}\n",
        "\n",
        "\\begin{equation}\n",
        "\\text{update gate:}~~z_{t} = \\sigma \\big(U_{z}x_{t} + W_{z}h_{t-1} + b_z\\big)\n",
        "\\end{equation}\n",
        "\n",
        "The candidate hidden state is computed as:\n",
        "\n",
        "\\begin{equation}\n",
        "\\hat{h}_{t} = \\mathrm{tanh} \\big(U_{h}x_{t} + W_{h} (r_t \\circ h_{t-1}) + b_h\\big)\n",
        "\\end{equation}\n",
        "\n",
        "<center>\n",
        "<img width='500px' src='https://1drv.ms/i/c/ae69638675180117/UQQXARh1hmNpIICuuYQBAAAAAEpvFJzwgjB2a3Y?width=703&height=489' />\n",
        "<br>\n",
        "<b>Figure 3:</b> GRU unit. Taken from <a href='http://colah.github.io/posts/2015-08-Understanding-LSTMs/'>Chris Olah's blog</a>.<br>\n",
        "</center>\n",
        "\n",
        "The reset gate determines how much of the information from the previous time steps (stored in $h_{t-1}$) should be discarded.\n",
        "The new hidden state is finally obtained by linearly interpolating between the previous hidden state and the candidate one:\n",
        "\n",
        "\\begin{equation}\n",
        "h_{t} = (1-z_t) \\circ {h}_{t-1} + z_t \\circ \\hat{h}_{t}\n",
        "\\end{equation}"
      ],
      "metadata": {
        "id": "Z--prNCiJ0Un"
      }
    }
  ]
}